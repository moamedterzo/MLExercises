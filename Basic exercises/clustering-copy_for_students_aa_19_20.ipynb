{
 "cells": [
  {
   "cell_type": "markdown",
   "metadata": {},
   "source": [
    "# Exercizes on clustering"
   ]
  },
  {
   "cell_type": "markdown",
   "metadata": {},
   "source": [
    "Here you can find a program to read a data file in csv format. \n",
    "The data file has the following heading:\n",
    "    number of samples, number of features\n",
    "    list of the names of the features (separated by comma)\n",
    "The remaining lines contain an example per row.\n",
    "For each row there is a list of real numbers (commas separated) which are the feature values.   "
   ]
  },
  {
   "cell_type": "code",
   "execution_count": 22,
   "metadata": {},
   "outputs": [
    {
     "name": "stdout",
     "output_type": "stream",
     "text": [
      "n_samples=\n",
      "150\n",
      "n_samples=\n",
      "6118\n",
      "n_samples=\n",
      "86558\n",
      "dataset n. 1: n samples, n features\n",
      "(150, 2)\n",
      "dataset n. 2: n samples, n features\n",
      "(6118, 2)\n",
      "dataset n. 3: n samples, n features\n",
      "(86558, 2)\n"
     ]
    }
   ],
   "source": [
    "import csv\n",
    "import sys\n",
    "from os.path import join\n",
    "\n",
    "import numpy as np\n",
    " \n",
    "# this function reads the data file, loads the configuration attributes specifiefd in the heading\n",
    "# (numer of examples and features), the list of feature names\n",
    "# and loads the data in a matrix named data    \n",
    "def load_data(file_path, file_name):\n",
    "   with open(join(file_path, file_name)) as csv_file:\n",
    "       data_file = csv.reader(csv_file,delimiter=',')\n",
    "       temp1 = next(data_file)\n",
    "       n_samples = int(temp1[0])\n",
    "       print(\"n_samples=\")\n",
    "       print(n_samples)\n",
    "       n_features = int(temp1[1])\n",
    "       temp2 = next(data_file)\n",
    "       feature_names = np.array(temp2[:n_features])\n",
    "\n",
    "       data_list = [iter for iter in data_file]\n",
    "               \n",
    "       data = np.asarray(data_list, dtype=np.float64)                  \n",
    "       \n",
    "   return(data,feature_names,n_samples,n_features)\n",
    "\n",
    "# The main program reads the input file containing the dataset\n",
    "# file_path is the file path where the file with the data to be read are located\n",
    "# we assume the file contains an example per line\n",
    "# each example is a list of real values separated by a comma (csv format)\n",
    "# The first line of the file contains the heading with:\n",
    "# N_samples,n_features,\n",
    "# The second line contains the feature names separated by a comma     \n",
    "\n",
    "#file_path=\"~/meo/Documents/Didattica/Laboratorio-15-16-Jupyter/\"\n",
    "file_path=\"./\"\n",
    "# all the three datasets contain data points on (x,y) \n",
    "file_name1=\"3-clusters.csv\"\n",
    "file_name2=\"dataset-DBSCAN.csv\"     \n",
    "file_name3=\"CURE-complete.csv\"    \n",
    "data1,feature_names1,n_samples1,n_features1 = load_data(file_path, file_name1)\n",
    "data2,feature_names2,n_samples2,n_features2 = load_data(file_path, file_name2)\n",
    "data3,feature_names3,n_samples3,n_features3 = load_data(file_path, file_name3)\n",
    "print(\"dataset n. 1: n samples, n features\")\n",
    "print(n_samples1, n_features1)\n",
    "print(\"dataset n. 2: n samples, n features\")\n",
    "print(n_samples2, n_features2)\n",
    "print(\"dataset n. 3: n samples, n features\")\n",
    "print(n_samples3, n_features3)"
   ]
  },
  {
   "cell_type": "markdown",
   "metadata": {},
   "source": [
    "The following program plots the dataset n.1"
   ]
  },
  {
   "cell_type": "code",
   "execution_count": 2,
   "metadata": {},
   "outputs": [
    {
     "data": {
      "image/png": "[encoded data removed]",
      "text/plain": [
       "<matplotlib.figure.Figure at 0x10cf70210>"
      ]
     },
     "metadata": {},
     "output_type": "display_data"
    }
   ],
   "source": [
    "import matplotlib.pyplot as plt\n",
    "\n",
    "fig = plt.figure(figsize=(8,8))\n",
    "\n",
    "ax = fig.add_subplot(111)\n",
    "fig.subplots_adjust(top=1)\n",
    "ax.set_title('Dataset n. 1 of data points')\n",
    "\n",
    "ax.set_xlabel(feature_names1[0])\n",
    "ax.set_ylabel(feature_names1[1])\n",
    "\n",
    "#plot the dataset\n",
    "plt.plot(data1[:,0], data1[:,1], '.',markersize=1)\n",
    "\n",
    "plt.show()"
   ]
  },
  {
   "cell_type": "markdown",
   "metadata": {},
   "source": [
    "The following is the program for plotting the dataset n.2"
   ]
  },
  {
   "cell_type": "code",
   "execution_count": 3,
   "metadata": {},
   "outputs": [
    {
     "data": {
      "image/png": "[encoded data removed]",
      "text/plain": [
       "<matplotlib.figure.Figure at 0x10d2d3790>"
      ]
     },
     "metadata": {},
     "output_type": "display_data"
    }
   ],
   "source": [
    "import matplotlib.pyplot as plt\n",
    "\n",
    "fig = plt.figure(figsize=(20,10))\n",
    "\n",
    "ax = fig.add_subplot(111)\n",
    "fig.subplots_adjust(top=1)\n",
    "ax.set_title('Dataset n. 2 of data points')\n",
    "\n",
    "ax.set_xlabel(feature_names2[0])\n",
    "ax.set_ylabel(feature_names2[1])\n",
    "\n",
    "#plot the dataset\n",
    "plt.plot(data2[:,0], data2[:,1], '.', markersize=2)\n",
    "\n",
    "plt.show()"
   ]
  },
  {
   "cell_type": "markdown",
   "metadata": {},
   "source": [
    "The following is the program for plotting the dataset n.3"
   ]
  },
  {
   "cell_type": "code",
   "execution_count": 4,
   "metadata": {},
   "outputs": [
    {
     "data": {
      "image/png": "[encoded data removed]",
      "text/plain": [
       "<matplotlib.figure.Figure at 0x10faa0f90>"
      ]
     },
     "metadata": {},
     "output_type": "display_data"
    }
   ],
   "source": [
    "import matplotlib.pyplot as plt\n",
    "\n",
    "fig = plt.figure(figsize=(8,8))\n",
    "\n",
    "ax = fig.add_subplot(111)\n",
    "fig.subplots_adjust(top=1)\n",
    "ax.set_title('Dataset n. 3 of data points')\n",
    "\n",
    "ax.set_xlabel(feature_names3[0])\n",
    "ax.set_ylabel(feature_names3[1])\n",
    "\n",
    "#plot the dataset\n",
    "plt.plot(data3[:,0], data3[:,1], '.', markersize=0.5, markeredgecolor = 'none')\n",
    "\n",
    "plt.show()"
   ]
  },
  {
   "cell_type": "markdown",
   "metadata": {},
   "source": [
    "## In the following program we cluster the dataset n.1 with K-means. \n",
    "From the plot of dataset n.1 we see 3 separated clusters. Thus k=3. "
   ]
  },
  {
   "cell_type": "code",
   "execution_count": 9,
   "metadata": {},
   "outputs": [
    {
     "name": "stdout",
     "output_type": "stream",
     "text": [
      "Example n.0=(10.0,10.0)\n",
      "in cluster n.0\n",
      "Example n.1=(11.0,11.0)\n",
      "in cluster n.0\n",
      "Example n.2=(12.0,12.0)\n",
      "in cluster n.0\n",
      "Example n.3=(13.0,13.0)\n",
      "in cluster n.0\n",
      "Example n.4=(14.0,14.0)\n",
      "in cluster n.0\n",
      "Example n.5=(15.0,15.0)\n",
      "in cluster n.0\n",
      "Example n.6=(16.0,16.0)\n",
      "in cluster n.0\n",
      "Example n.7=(17.0,17.0)\n",
      "in cluster n.0\n",
      "Example n.8=(18.0,18.0)\n",
      "in cluster n.0\n",
      "Example n.9=(19.0,19.0)\n",
      "in cluster n.0\n",
      "Example n.10=(20.0,20.0)\n",
      "in cluster n.0\n",
      "Example n.11=(21.0,21.0)\n",
      "in cluster n.0\n",
      "Example n.12=(22.0,22.0)\n",
      "in cluster n.0\n",
      "Example n.13=(23.0,23.0)\n",
      "in cluster n.0\n",
      "Example n.14=(24.0,24.0)\n",
      "in cluster n.0\n",
      "Example n.15=(25.0,25.0)\n",
      "in cluster n.0\n",
      "Example n.16=(26.0,26.0)\n",
      "in cluster n.0\n",
      "Example n.17=(27.0,27.0)\n",
      "in cluster n.0\n",
      "Example n.18=(28.0,28.0)\n",
      "in cluster n.0\n",
      "Example n.19=(29.0,29.0)\n",
      "in cluster n.0\n",
      "Example n.20=(30.0,30.0)\n",
      "in cluster n.0\n",
      "Example n.21=(31.0,31.0)\n",
      "in cluster n.0\n",
      "Example n.22=(32.0,32.0)\n",
      "in cluster n.0\n",
      "Example n.23=(33.0,33.0)\n",
      "in cluster n.0\n",
      "Example n.24=(34.0,34.0)\n",
      "in cluster n.0\n",
      "Example n.25=(35.0,35.0)\n",
      "in cluster n.0\n",
      "Example n.26=(36.0,36.0)\n",
      "in cluster n.0\n",
      "Example n.27=(37.0,37.0)\n",
      "in cluster n.0\n",
      "Example n.28=(38.0,38.0)\n",
      "in cluster n.0\n",
      "Example n.29=(39.0,39.0)\n",
      "in cluster n.0\n",
      "Example n.30=(40.0,40.0)\n",
      "in cluster n.0\n",
      "Example n.31=(41.0,41.0)\n",
      "in cluster n.0\n",
      "Example n.32=(42.0,42.0)\n",
      "in cluster n.0\n",
      "Example n.33=(43.0,43.0)\n",
      "in cluster n.0\n",
      "Example n.34=(44.0,44.0)\n",
      "in cluster n.0\n",
      "Example n.35=(45.0,45.0)\n",
      "in cluster n.0\n",
      "Example n.36=(46.0,46.0)\n",
      "in cluster n.0\n",
      "Example n.37=(47.0,47.0)\n",
      "in cluster n.0\n",
      "Example n.38=(48.0,48.0)\n",
      "in cluster n.0\n",
      "Example n.39=(49.0,49.0)\n",
      "in cluster n.0\n",
      "Example n.40=(50.0,50.0)\n",
      "in cluster n.0\n",
      "Example n.41=(51.0,51.0)\n",
      "in cluster n.0\n",
      "Example n.42=(52.0,52.0)\n",
      "in cluster n.0\n",
      "Example n.43=(53.0,53.0)\n",
      "in cluster n.0\n",
      "Example n.44=(54.0,54.0)\n",
      "in cluster n.0\n",
      "Example n.45=(55.0,55.0)\n",
      "in cluster n.0\n",
      "Example n.46=(56.0,56.0)\n",
      "in cluster n.0\n",
      "Example n.47=(57.0,57.0)\n",
      "in cluster n.0\n",
      "Example n.48=(58.0,58.0)\n",
      "in cluster n.0\n",
      "Example n.49=(80.0,80.0)\n",
      "in cluster n.2\n",
      "Example n.50=(81.0,81.0)\n",
      "in cluster n.2\n",
      "Example n.51=(82.0,82.0)\n",
      "in cluster n.2\n",
      "Example n.52=(83.0,83.0)\n",
      "in cluster n.2\n",
      "Example n.53=(84.0,84.0)\n",
      "in cluster n.2\n",
      "Example n.54=(85.0,85.0)\n",
      "in cluster n.2\n",
      "Example n.55=(86.0,86.0)\n",
      "in cluster n.2\n",
      "Example n.56=(87.0,87.0)\n",
      "in cluster n.2\n",
      "Example n.57=(88.0,88.0)\n",
      "in cluster n.2\n",
      "Example n.58=(89.0,89.0)\n",
      "in cluster n.2\n",
      "Example n.59=(90.0,90.0)\n",
      "in cluster n.2\n",
      "Example n.60=(91.0,91.0)\n",
      "in cluster n.2\n",
      "Example n.61=(92.0,92.0)\n",
      "in cluster n.2\n",
      "Example n.62=(93.0,93.0)\n",
      "in cluster n.2\n",
      "Example n.63=(94.0,94.0)\n",
      "in cluster n.2\n",
      "Example n.64=(95.0,95.0)\n",
      "in cluster n.2\n",
      "Example n.65=(96.0,96.0)\n",
      "in cluster n.2\n",
      "Example n.66=(97.0,97.0)\n",
      "in cluster n.2\n",
      "Example n.67=(98.0,98.0)\n",
      "in cluster n.2\n",
      "Example n.68=(99.0,99.0)\n",
      "in cluster n.2\n",
      "Example n.69=(100.0,100.0)\n",
      "in cluster n.2\n",
      "Example n.70=(101.0,101.0)\n",
      "in cluster n.2\n",
      "Example n.71=(102.0,102.0)\n",
      "in cluster n.2\n",
      "Example n.72=(103.0,103.0)\n",
      "in cluster n.2\n",
      "Example n.73=(104.0,104.0)\n",
      "in cluster n.2\n",
      "Example n.74=(105.0,105.0)\n",
      "in cluster n.2\n",
      "Example n.75=(106.0,106.0)\n",
      "in cluster n.2\n",
      "Example n.76=(107.0,107.0)\n",
      "in cluster n.2\n",
      "Example n.77=(108.0,108.0)\n",
      "in cluster n.2\n",
      "Example n.78=(109.0,109.0)\n",
      "in cluster n.2\n",
      "Example n.79=(110.0,110.0)\n",
      "in cluster n.2\n",
      "Example n.80=(111.0,111.0)\n",
      "in cluster n.2\n",
      "Example n.81=(112.0,112.0)\n",
      "in cluster n.2\n",
      "Example n.82=(113.0,113.0)\n",
      "in cluster n.2\n",
      "Example n.83=(114.0,114.0)\n",
      "in cluster n.2\n",
      "Example n.84=(115.0,115.0)\n",
      "in cluster n.2\n",
      "Example n.85=(116.0,116.0)\n",
      "in cluster n.2\n",
      "Example n.86=(117.0,117.0)\n",
      "in cluster n.2\n",
      "Example n.87=(118.0,118.0)\n",
      "in cluster n.2\n",
      "Example n.88=(119.0,119.0)\n",
      "in cluster n.2\n",
      "Example n.89=(120.0,120.0)\n",
      "in cluster n.2\n",
      "Example n.90=(121.0,121.0)\n",
      "in cluster n.2\n",
      "Example n.91=(122.0,122.0)\n",
      "in cluster n.2\n",
      "Example n.92=(123.0,123.0)\n",
      "in cluster n.2\n",
      "Example n.93=(124.0,124.0)\n",
      "in cluster n.2\n",
      "Example n.94=(125.0,125.0)\n",
      "in cluster n.2\n",
      "Example n.95=(126.0,126.0)\n",
      "in cluster n.2\n",
      "Example n.96=(127.0,127.0)\n",
      "in cluster n.2\n",
      "Example n.97=(128.0,128.0)\n",
      "in cluster n.2\n",
      "Example n.98=(129.0,129.0)\n",
      "in cluster n.2\n",
      "Example n.99=(120.0,10.0)\n",
      "in cluster n.1\n",
      "Example n.100=(121.0,11.0)\n",
      "in cluster n.1\n",
      "Example n.101=(122.0,12.0)\n",
      "in cluster n.1\n",
      "Example n.102=(123.0,13.0)\n",
      "in cluster n.1\n",
      "Example n.103=(124.0,14.0)\n",
      "in cluster n.1\n",
      "Example n.104=(125.0,15.0)\n",
      "in cluster n.1\n",
      "Example n.105=(126.0,16.0)\n",
      "in cluster n.1\n",
      "Example n.106=(127.0,17.0)\n",
      "in cluster n.1\n",
      "Example n.107=(128.0,18.0)\n",
      "in cluster n.1\n",
      "Example n.108=(129.0,19.0)\n",
      "in cluster n.1\n",
      "Example n.109=(130.0,20.0)\n",
      "in cluster n.1\n",
      "Example n.110=(131.0,21.0)\n",
      "in cluster n.1\n",
      "Example n.111=(132.0,22.0)\n",
      "in cluster n.1\n",
      "Example n.112=(133.0,23.0)\n",
      "in cluster n.1\n",
      "Example n.113=(134.0,24.0)\n",
      "in cluster n.1\n",
      "Example n.114=(135.0,25.0)\n",
      "in cluster n.1\n",
      "Example n.115=(136.0,26.0)\n",
      "in cluster n.1\n",
      "Example n.116=(137.0,27.0)\n",
      "in cluster n.1\n",
      "Example n.117=(138.0,28.0)\n",
      "in cluster n.1\n",
      "Example n.118=(139.0,29.0)\n",
      "in cluster n.1\n",
      "Example n.119=(140.0,30.0)\n",
      "in cluster n.1\n",
      "Example n.120=(141.0,31.0)\n",
      "in cluster n.1\n",
      "Example n.121=(142.0,32.0)\n",
      "in cluster n.1\n",
      "Example n.122=(143.0,33.0)\n",
      "in cluster n.1\n",
      "Example n.123=(144.0,34.0)\n",
      "in cluster n.1\n",
      "Example n.124=(145.0,35.0)\n",
      "in cluster n.1\n",
      "Example n.125=(146.0,36.0)\n",
      "in cluster n.1\n",
      "Example n.126=(147.0,37.0)\n",
      "in cluster n.1\n",
      "Example n.127=(148.0,38.0)\n",
      "in cluster n.1\n",
      "Example n.128=(149.0,39.0)\n",
      "in cluster n.1\n",
      "Example n.129=(150.0,40.0)\n",
      "in cluster n.1\n",
      "Example n.130=(151.0,41.0)\n",
      "in cluster n.1\n",
      "Example n.131=(152.0,42.0)\n",
      "in cluster n.1\n",
      "Example n.132=(153.0,43.0)\n",
      "in cluster n.1\n",
      "Example n.133=(154.0,44.0)\n",
      "in cluster n.1\n",
      "Example n.134=(155.0,45.0)\n",
      "in cluster n.1\n",
      "Example n.135=(156.0,46.0)\n",
      "in cluster n.1\n",
      "Example n.136=(157.0,47.0)\n",
      "in cluster n.1\n",
      "Example n.137=(158.0,48.0)\n",
      "in cluster n.1\n",
      "Example n.138=(159.0,49.0)\n",
      "in cluster n.1\n",
      "Example n.139=(160.0,50.0)\n",
      "in cluster n.1\n",
      "Example n.140=(161.0,51.0)\n",
      "in cluster n.1\n",
      "Example n.141=(162.0,52.0)\n",
      "in cluster n.1\n",
      "Example n.142=(163.0,53.0)\n",
      "in cluster n.1\n",
      "Example n.143=(164.0,54.0)\n",
      "in cluster n.1\n",
      "Example n.144=(165.0,55.0)\n",
      "in cluster n.1\n",
      "Example n.145=(166.0,56.0)\n",
      "in cluster n.1\n",
      "Example n.146=(167.0,57.0)\n",
      "in cluster n.1\n",
      "Example n.147=(168.0,58.0)\n",
      "in cluster n.1\n",
      "Example n.148=(169.0,59.0)\n",
      "in cluster n.1\n",
      "Example n.149=(170.0,60.0)\n",
      "in cluster n.1\n"
     ]
    }
   ],
   "source": [
    "import csv\n",
    "import sys\n",
    "from os.path import join\n",
    "\n",
    "import numpy as np\n",
    " \n",
    "def load_data(file_path, file_name):\n",
    "   with open(join(file_path, file_name)) as csv_file:\n",
    "       data_file = csv.reader(csv_file,delimiter=',')\n",
    "       temp1 = next(data_file)\n",
    "       n_samples = int(temp1[0])\n",
    "       n_features = int(temp1[1])\n",
    "       temp2 = next(data_file)\n",
    "       feature_names = np.array(temp2[:n_features])\n",
    "\n",
    "       data_list = [iter for iter in data_file]\n",
    "               \n",
    "       data = np.asarray(data_list, dtype=np.float64)                  \n",
    "       \n",
    "   return(data,feature_names,n_samples,n_features)\n",
    "\n",
    "# The main program reads the input file containing the dataset\n",
    "# file_path is the file path where the file with the data to be read are located\n",
    "# we assume the file contains an example per line\n",
    "# each example is a list of real values separated by a comma (csv format)\n",
    "# The first line of the file contains the heading with:\n",
    "# N_samples,n_features,\n",
    "# The second line contains the feature names separated by a comma     \n",
    "\n",
    "#file_path=\"~/meo/Documents/Didattica/Laboratorio-15-16-Jupyter/\"\n",
    "file_path=\"./\"\n",
    "# all the three datasets contain data points on (x,y) \n",
    "file_name1=\"3-clusters.csv\"\n",
    "\n",
    "data1,feature_names1,n_samples1,n_features1 = load_data(file_path, file_name1)\n",
    "\n",
    "from sklearn.cluster import KMeans\n",
    "\n",
    "np.random.seed(5)\n",
    "\n",
    "k=3\n",
    "kmeans1 = KMeans(n_clusters=k, random_state=0).fit(data1)\n",
    "\n",
    "i=0\n",
    "for i in range(n_samples1):\n",
    "    print(\"Example n.\"+str(i)+\"=(\"+str(data1[i,0])+\",\"+str(data1[i,1])+\")\")\n",
    "    print(\"in cluster n.\"+str(kmeans1.labels_[i]))"
   ]
  },
  {
   "cell_type": "markdown",
   "metadata": {},
   "source": [
    "In the following program we plot the clusters"
   ]
  },
  {
   "cell_type": "code",
   "execution_count": 6,
   "metadata": {},
   "outputs": [
    {
     "data": {
      "image/png": "[encoded data removed]",
      "text/plain": [
       "<matplotlib.figure.Figure at 0x10fe79390>"
      ]
     },
     "metadata": {},
     "output_type": "display_data"
    }
   ],
   "source": [
    "import matplotlib.pyplot as plt\n",
    "\n",
    "fig = plt.figure(figsize=(8,8))\n",
    "\n",
    "ax = fig.add_subplot(111)\n",
    "fig.subplots_adjust(top=1)\n",
    "ax.set_title('Clustered points in dataset n. 1')\n",
    "\n",
    "ax.set_xlabel('x')\n",
    "ax.set_ylabel('y')\n",
    "\n",
    "# set the list of colors to be selected when plotting the different clusters\n",
    "color=['b','g','r','c','m','y','k','w']\n",
    "    \n",
    "#plot the dataset\n",
    "for clu in range(k):\n",
    "    # collect the sequence of cooordinates of the points in each given cluster (determined by clu)\n",
    "    data_list_x = [data1[i,0] for i in range(n_samples1) if kmeans1.labels_[i]==clu]\n",
    "    data_list_y = [data1[i,1] for i in range(n_samples1) if kmeans1.labels_[i]==clu]\n",
    "    plt.scatter(data_list_x, data_list_y, s=2, edgecolors='none', c=color[clu], alpha=0.5)\n",
    "\n",
    "plt.show()"
   ]
  },
  {
   "cell_type": "markdown",
   "metadata": {
    "collapsed": true
   },
   "source": [
    "In the following cell we perform clustering with K-means on dataset2"
   ]
  },
  {
   "cell_type": "code",
   "execution_count": 16,
   "metadata": {},
   "outputs": [],
   "source": []
  },
  {
   "cell_type": "markdown",
   "metadata": {},
   "source": [
    "In the following we plot clustering results on dataset2"
   ]
  },
  {
   "cell_type": "code",
   "execution_count": null,
   "metadata": {},
   "outputs": [],
   "source": []
  },
  {
   "cell_type": "markdown",
   "metadata": {},
   "source": [
    "We perform clustering with K-means on the remaining dataset3"
   ]
  },
  {
   "cell_type": "code",
   "execution_count": null,
   "metadata": {},
   "outputs": [],
   "source": []
  },
  {
   "cell_type": "markdown",
   "metadata": {},
   "source": [
    "In the following we plot clustering results on dataset3"
   ]
  },
  {
   "cell_type": "code",
   "execution_count": null,
   "metadata": {},
   "outputs": [],
   "source": []
  },
  {
   "cell_type": "markdown",
   "metadata": {
    "collapsed": true
   },
   "source": [
    "In the following cells I propose you to write a program that computes with a statistical measure of your choice a quantitative evaluation of clusters in the three datasets.\n",
    "It is advisable to execute K-means a certain number of times (let us try 10 times) and then select the clustering solution that gives the best value of the evaluation measure."
   ]
  },
  {
   "cell_type": "code",
   "execution_count": null,
   "metadata": {
    "collapsed": true
   },
   "outputs": [],
   "source": []
  },
  {
   "cell_type": "markdown",
   "metadata": {},
   "source": [
    "As already done with classification by k-nn, plot in the cell below the quantitative measure of your choice (used above) with an increasing value of k (the number of clusters) so that the best value of k can be selected."
   ]
  },
  {
   "cell_type": "code",
   "execution_count": null,
   "metadata": {
    "collapsed": true
   },
   "outputs": [],
   "source": []
  }
 ],
 "metadata": {
  "anaconda-cloud": {},
  "kernelspec": {
   "display_name": "Python 3",
   "language": "python",
   "name": "python3"
  },
  "language_info": {
   "codemirror_mode": {
    "name": "ipython",
    "version": 3
   },
   "file_extension": ".py",
   "mimetype": "text/x-python",
   "name": "python",
   "nbconvert_exporter": "python",
   "pygments_lexer": "ipython3",
   "version": "3.7.0"
  }
 },
 "nbformat": 4,
 "nbformat_minor": 1
}
